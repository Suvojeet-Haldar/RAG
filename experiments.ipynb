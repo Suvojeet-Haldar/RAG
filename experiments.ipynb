{
 "cells": [
  {
   "cell_type": "code",
   "execution_count": 1,
   "metadata": {},
   "outputs": [
    {
     "name": "stdout",
     "output_type": "stream",
     "text": [
      "False\n"
     ]
    }
   ],
   "source": [
    "import torch\n",
    "print(torch.cuda.is_available())\n"
   ]
  },
  {
   "cell_type": "code",
   "execution_count": 2,
   "metadata": {},
   "outputs": [
    {
     "name": "stdout",
     "output_type": "stream",
     "text": [
      "2.4.0+cpu\n"
     ]
    }
   ],
   "source": [
    "print(torch.__version__)\n"
   ]
  },
  {
   "cell_type": "code",
   "execution_count": 3,
   "metadata": {},
   "outputs": [
    {
     "name": "stdout",
     "output_type": "stream",
     "text": [
      "None\n"
     ]
    }
   ],
   "source": [
    "print(torch.version.cuda)\n"
   ]
  },
  {
   "cell_type": "code",
   "execution_count": 4,
   "metadata": {},
   "outputs": [
    {
     "name": "stdout",
     "output_type": "stream",
     "text": [
      "nvcc: NVIDIA (R) Cuda compiler driver\n",
      "Copyright (c) 2005-2024 NVIDIA Corporation\n",
      "Built on Fri_Jun_14_16:44:19_Pacific_Daylight_Time_2024\n",
      "Cuda compilation tools, release 12.6, V12.6.20\n",
      "Build cuda_12.6.r12.6/compiler.34431801_0\n"
     ]
    }
   ],
   "source": [
    "!nvcc --version\n"
   ]
  },
  {
   "cell_type": "code",
   "execution_count": 5,
   "metadata": {},
   "outputs": [
    {
     "name": "stderr",
     "output_type": "stream",
     "text": [
      "ERROR: Could not find a version that satisfies the requirement torch==2.4.0+cu126 (from versions: 2.2.0, 2.2.1, 2.2.2, 2.3.0, 2.3.1, 2.4.0)\n",
      "ERROR: No matching distribution found for torch==2.4.0+cu126\n"
     ]
    },
    {
     "name": "stdout",
     "output_type": "stream",
     "text": [
      "Looking in indexes: https://pypi.org/simple, https://download.pytorch.org/whl/cu126\n"
     ]
    }
   ],
   "source": [
    "!pip install torch==2.4.0+cu126 torchvision torchaudio --extra-index-url https://download.pytorch.org/whl/cu126\n"
   ]
  },
  {
   "cell_type": "code",
   "execution_count": 1,
   "metadata": {},
   "outputs": [
    {
     "name": "stdout",
     "output_type": "stream",
     "text": [
      "Looking in indexes: https://pypi.org/simple, https://download.pytorch.org/whl/cu124\n",
      "Requirement already satisfied: torch==2.4.0+cu124 in d:\\projects\\rag\\rag\\lib\\site-packages (2.4.0+cu124)\n",
      "Requirement already satisfied: torchvision in d:\\projects\\rag\\rag\\lib\\site-packages (0.19.0+cu124)\n",
      "Collecting torchaudio\n",
      "  Using cached https://download.pytorch.org/whl/cu124/torchaudio-2.4.0%2Bcu124-cp312-cp312-win_amd64.whl (4.1 MB)\n",
      "Requirement already satisfied: filelock in d:\\projects\\rag\\rag\\lib\\site-packages (from torch==2.4.0+cu124) (3.15.4)\n",
      "Requirement already satisfied: typing-extensions>=4.8.0 in d:\\projects\\rag\\rag\\lib\\site-packages (from torch==2.4.0+cu124) (4.12.2)\n",
      "Requirement already satisfied: sympy in d:\\projects\\rag\\rag\\lib\\site-packages (from torch==2.4.0+cu124) (1.13.2)\n",
      "Requirement already satisfied: networkx in d:\\projects\\rag\\rag\\lib\\site-packages (from torch==2.4.0+cu124) (3.3)\n",
      "Requirement already satisfied: jinja2 in d:\\projects\\rag\\rag\\lib\\site-packages (from torch==2.4.0+cu124) (3.1.4)\n",
      "Requirement already satisfied: fsspec in d:\\projects\\rag\\rag\\lib\\site-packages (from torch==2.4.0+cu124) (2024.6.1)\n",
      "Requirement already satisfied: setuptools in d:\\projects\\rag\\rag\\lib\\site-packages (from torch==2.4.0+cu124) (72.2.0)\n",
      "Requirement already satisfied: numpy in d:\\projects\\rag\\rag\\lib\\site-packages (from torchvision) (1.26.4)\n",
      "Requirement already satisfied: pillow!=8.3.*,>=5.3.0 in d:\\projects\\rag\\rag\\lib\\site-packages (from torchvision) (10.4.0)\n",
      "Requirement already satisfied: MarkupSafe>=2.0 in d:\\projects\\rag\\rag\\lib\\site-packages (from jinja2->torch==2.4.0+cu124) (2.1.5)\n",
      "Requirement already satisfied: mpmath<1.4,>=1.1.0 in d:\\projects\\rag\\rag\\lib\\site-packages (from sympy->torch==2.4.0+cu124) (1.3.0)\n",
      "Installing collected packages: torchaudio\n",
      "Successfully installed torchaudio-2.4.0+cu124\n"
     ]
    }
   ],
   "source": [
    "!pip install torch==2.4.0+cu124 torchvision torchaudio --extra-index-url https://download.pytorch.org/whl/cu124\n"
   ]
  },
  {
   "cell_type": "code",
   "execution_count": null,
   "metadata": {},
   "outputs": [],
   "source": []
  }
 ],
 "metadata": {
  "kernelspec": {
   "display_name": "Python 3",
   "language": "python",
   "name": "python3"
  },
  "language_info": {
   "codemirror_mode": {
    "name": "ipython",
    "version": 3
   },
   "file_extension": ".py",
   "mimetype": "text/x-python",
   "name": "python",
   "nbconvert_exporter": "python",
   "pygments_lexer": "ipython3",
   "version": "3.12.5"
  }
 },
 "nbformat": 4,
 "nbformat_minor": 2
}
